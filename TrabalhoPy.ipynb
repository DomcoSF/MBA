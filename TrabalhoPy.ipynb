{
 "cells": [
  {
   "cell_type": "code",
   "execution_count": 2,
   "metadata": {},
   "outputs": [],
   "source": [
    "def isprimo(numero):\n",
    "    if numero != 0 & numero != 1:\n",
    "        if numero > 3:\n",
    "            for i in range(2, numero):\n",
    "                if numero % i == 0:\n",
    "                    return False\n",
    "        return True\n",
    "    return False\n",
    "\n",
    "def conjucture(n):\n",
    "        lista= []\n",
    "        ini = n**2  \n",
    "        fim = (n+1)**2\n",
    "        rang = range(ini,fim)        \n",
    "        for i in rang:    \n",
    "            #print(i)\n",
    "            if isprimo(i)== True:\n",
    "                lista.append(i)\n",
    "        print(lista)"
   ]
  },
  {
   "cell_type": "code",
   "execution_count": 3,
   "metadata": {},
   "outputs": [
    {
     "name": "stdout",
     "output_type": "stream",
     "text": [
      "[17, 19, 23]\n"
     ]
    }
   ],
   "source": [
    "conjucture(4)"
   ]
  },
  {
   "cell_type": "code",
   "execution_count": 4,
   "metadata": {},
   "outputs": [],
   "source": [
    "from datetime import datetime\n",
    "from collections import Counter\n",
    "import re\n",
    "\n",
    "def readFile():\n",
    "    fh = open('BackToTheFutureDates.txt').readlines()    \n",
    "    return fh\n",
    "\n",
    "def countChar(t):\n",
    "    texto = str(t) \n",
    "    texto = Counter(texto)\n",
    "    return texto\n",
    "\n",
    "def searchDate():  \n",
    "    text = readFile()\n",
    "    dates = []\n",
    "    patn = re.compile(r'\\d{2}/\\d{2}/\\d{4}')\n",
    "    patn2 = re.compile(r'\\d{1}/\\d{1}/\\d{2}')\n",
    "\n",
    "    for line in text:\n",
    "        for match in patn.findall(line):\n",
    "            dates.append(match)\n",
    "    for line in text:\n",
    "        for match in patn2.findall(line):\n",
    "            dates.append(match)  \n",
    "    return dates\n",
    "\n",
    "def main():    \n",
    "    print(\"As Datas do texto são: \" + str(searchDate()))\n",
    "    print(\"\\nFrequencia de letras do texto \" + str(countChar(readFile())))\n",
    "            \n"
   ]
  },
  {
   "cell_type": "code",
   "execution_count": 5,
   "metadata": {},
   "outputs": [
    {
     "name": "stdout",
     "output_type": "stream",
     "text": [
      "As Datas do texto são: ['25/10/1985', '26/10/1985', '26/10/2010', '12/11/1955', '26/10/1985', '21/10/2015', '12/11/1955', '21/10/2015', '26/10/1985', '12/11/1955', '27/10/1985', '1/1/85', '2/9/85']\n",
      "\n",
      "Frequencia de letras do texto Counter({' ': 517, 'e': 237, 't': 223, 'o': 153, 'n': 151, 'a': 144, 'i': 131, 'r': 116, 's': 110, 'h': 109, 'l': 76, ',': 62, 'f': 60, 'c': 54, '1': 53, \"'\": 51, 'd': 51, 'u': 48, 'm': 43, 'y': 38, 'g': 37, '5': 32, '/': 28, 'w': 28, '\\\\': 27, '.': 26, 'p': 24, 'b': 22, 'v': 21, '2': 20, 'D': 20, '0': 19, '9': 19, ':': 18, 'M': 18, '8': 16, 'k': 16, '\"': 12, '-': 12, 'A': 10, 'B': 8, 'J': 7, 'L': 6, 'T': 5, 'x': 5, 'F': 4, '6': 4, '(': 4, ')': 4, 'S': 4, 'O': 3, 'W': 3, 'j': 2, '4': 2, 'C': 2, 'N': 2, '7': 2, '[': 1, 'E': 1, 'P': 1, '!': 1, 'I': 1, 'V': 1, ']': 1})\n"
     ]
    }
   ],
   "source": [
    "main()"
   ]
  }
 ],
 "metadata": {
  "kernelspec": {
   "display_name": "Python 3",
   "language": "python",
   "name": "python3"
  }
 },
 "nbformat": 4,
 "nbformat_minor": 4
}
